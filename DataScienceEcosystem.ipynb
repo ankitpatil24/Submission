{
 "cells": [
  {
   "cell_type": "markdown",
   "id": "0e49a92d-7a9a-4cef-9ac4-618b9128b9a6",
   "metadata": {},
   "source": [
    "# H1: Data Science Tools and Ecosystem"
   ]
  },
  {
   "cell_type": "markdown",
   "id": "d749b56b-b725-415f-8492-300487c5ede6",
   "metadata": {},
   "source": [
    "In this notebook, Data Science Tools and Ecosystem are summarized."
   ]
  },
  {
   "cell_type": "markdown",
   "id": "3db755ab-c7f0-47c1-86de-8e2041a5e6a4",
   "metadata": {
    "tags": []
   },
   "source": [
    "**Objectives:**\n",
    "- List popular languages for Data Science\n",
    "- Some of the commonly used libraries used by Data Scientists\n",
    "- Data Science Tools\n",
    "- Arithmetic Expressions in Python"
   ]
  },
  {
   "cell_type": "markdown",
   "id": "975c266d-8321-4d7d-a3b0-fa0443b5b0c7",
   "metadata": {},
   "source": [
    "Some of the popular languages that Data Scientists use are:\n",
    "1. Python\n",
    "2. R\n",
    "3. SQL\n",
    "4. Java\n",
    "5. Julia\n",
    "6. JavaScript"
   ]
  },
  {
   "cell_type": "markdown",
   "id": "671c4270-dd88-47c2-815f-7c2bf8f75d8d",
   "metadata": {},
   "source": [
    "Some of the commonly used libraries used by Data Scientists include:\n",
    "1. Numpy\n",
    "2. Pandas\n",
    "3. Matplotlib\n",
    "4. Seaborn\n",
    "5. SciPy\n",
    "6. Keras\n",
    "7. TensorFlow\n",
    "8. PyTorch\n"
   ]
  },
  {
   "cell_type": "markdown",
   "id": "999b3fdb-53ac-41fc-a756-34612439a362",
   "metadata": {},
   "source": [
    "|Data Science Tools|\n",
    "|------------------|\n",
    "|Jupyter Notebook|\n",
    "|R Studio|\n",
    "|Apache Spark|"
   ]
  },
  {
   "cell_type": "markdown",
   "id": "1a8ec6b8-76c2-4f06-8778-57df02fb7181",
   "metadata": {},
   "source": [
    "### H3: Below are a few examples of evaluating arithmetic expressions in Python"
   ]
  },
  {
   "cell_type": "markdown",
   "id": "409d0b26-da1c-49b7-9ef3-74e94bf150bb",
   "metadata": {},
   "source": [
    "Addition"
   ]
  },
  {
   "cell_type": "code",
   "execution_count": 1,
   "id": "201db79f-b4e8-4b85-beb9-2700fc20a88d",
   "metadata": {
    "tags": []
   },
   "outputs": [
    {
     "name": "stdout",
     "output_type": "stream",
     "text": [
      "12\n"
     ]
    }
   ],
   "source": [
    "result = 2+10\n",
    "print(result) #Output is 12"
   ]
  },
  {
   "cell_type": "markdown",
   "id": "f32d60e0-4917-4064-839e-d0f6533022dc",
   "metadata": {},
   "source": [
    "Subtraction"
   ]
  },
  {
   "cell_type": "code",
   "execution_count": 2,
   "id": "27937967-673c-4b6f-a654-008bae43f918",
   "metadata": {
    "tags": []
   },
   "outputs": [
    {
     "name": "stdout",
     "output_type": "stream",
     "text": [
      "8\n"
     ]
    }
   ],
   "source": [
    "result = 10-2\n",
    "print(result) #Output is 8"
   ]
  },
  {
   "cell_type": "markdown",
   "id": "74628392-56ff-47f8-8d1f-32906b95fb44",
   "metadata": {},
   "source": [
    "Multiplication"
   ]
  },
  {
   "cell_type": "code",
   "execution_count": 3,
   "id": "f1dc3ca8-e3b4-445c-b6f9-ef6ff0d6b33b",
   "metadata": {
    "tags": []
   },
   "outputs": [
    {
     "name": "stdout",
     "output_type": "stream",
     "text": [
      "20\n"
     ]
    }
   ],
   "source": [
    "result = 10*2\n",
    "print(result) #Output is 20"
   ]
  },
  {
   "cell_type": "markdown",
   "id": "46965a30-85f8-46a8-9262-dadfbaffaa86",
   "metadata": {},
   "source": [
    "Division "
   ]
  },
  {
   "cell_type": "code",
   "execution_count": 4,
   "id": "1b817c2b-1f3e-45ad-b29e-ecdec91d6dcf",
   "metadata": {
    "tags": []
   },
   "outputs": [
    {
     "name": "stdout",
     "output_type": "stream",
     "text": [
      "5.0\n"
     ]
    }
   ],
   "source": [
    "result = 10/2\n",
    "print(result) #Output is 5"
   ]
  },
  {
   "cell_type": "code",
   "execution_count": 5,
   "id": "e9e6e6f9-6cb2-4294-9610-056b571ce2a6",
   "metadata": {
    "tags": []
   },
   "outputs": [
    {
     "data": {
      "text/plain": [
       "17"
      ]
     },
     "execution_count": 5,
     "metadata": {},
     "output_type": "execute_result"
    }
   ],
   "source": [
    "# This a simple arithmetic expression to mutiply then add integers\n",
    "(3*4)+5 #Output is 17"
   ]
  },
  {
   "cell_type": "code",
   "execution_count": 6,
   "id": "0fef8fdf-d777-40ad-8a88-6b67a47bef7e",
   "metadata": {
    "tags": []
   },
   "outputs": [
    {
     "name": "stdout",
     "output_type": "stream",
     "text": [
      "3.3333333333333335\n"
     ]
    }
   ],
   "source": [
    "# This will convert 200 minutes to hours by diving by 60\n",
    "minutes= 200\n",
    "hours = minutes/60\n",
    "print(hours)"
   ]
  },
  {
   "cell_type": "markdown",
   "id": "31d5546e-2d52-4bb7-9bc9-21f7ad393380",
   "metadata": {},
   "source": [
    "## H2: Author\n",
    "Name - Ankit Patil"
   ]
  },
  {
   "cell_type": "code",
   "execution_count": null,
   "id": "8419fd66-0171-4c1e-b771-d476137d4341",
   "metadata": {},
   "outputs": [],
   "source": []
  }
 ],
 "metadata": {
  "kernelspec": {
   "display_name": "Python",
   "language": "python",
   "name": "conda-env-python-py"
  },
  "language_info": {
   "codemirror_mode": {
    "name": "ipython",
    "version": 3
   },
   "file_extension": ".py",
   "mimetype": "text/x-python",
   "name": "python",
   "nbconvert_exporter": "python",
   "pygments_lexer": "ipython3",
   "version": "3.7.12"
  }
 },
 "nbformat": 4,
 "nbformat_minor": 5
}
